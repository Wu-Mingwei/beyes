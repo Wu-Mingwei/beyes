{
 "cells": [
  {
   "cell_type": "code",
   "execution_count": 5,
   "metadata": {},
   "outputs": [],
   "source": [
    "from sklearn.naive_bayes import MultinomialNB\n",
    "from sklearn.feature_extraction.text import CountVectorizer \n",
    "from sklearn.model_selection import train_test_split"
   ]
  },
  {
   "cell_type": "code",
   "execution_count": 6,
   "metadata": {},
   "outputs": [
    {
     "name": "stdout",
     "output_type": "stream",
     "text": [
      "spam probability 0.22891566265060248\n"
     ]
    }
   ],
   "source": [
    "#tray to tarin spam email classification\n",
    "\n",
    "emails = [\n",
    "    (\"fre money now\", \"spam\"),\n",
    "    (\"awesome channce\", \"spam\"),\n",
    "    (\"decide not move\", \"ham\"),\n",
    "    (\"thanks for applying\", \"ham\"),\n",
    "    (\"bank details\", \"spam\")\n",
    "]\n",
    "\n",
    "texts = [email[0] for email in emails ]\n",
    "labels = [1 if email[1] == \"spam\" else 0 for email in emails] # 1= spam, 0 = ham\n",
    "\n",
    "vectorizer = CountVectorizer()\n",
    "X = vectorizer.fit_transform(texts)\n",
    "\n",
    "#split train and test\n",
    "X_train, X_test, y_train, y_test = train_test_split(X, labels, test_size= 0.25, random_state= 42)\n",
    "\n",
    "model = MultinomialNB()\n",
    "model.fit(X_train, y_train)\n",
    "\n",
    "#prediction of new email\n",
    "\n",
    "new_mail = [\"move to next step\"]\n",
    "new_mail_vec =  vectorizer.transform(new_mail)\n",
    "print(\"spam probability\", model.predict_proba(new_mail_vec)[0][1]) #output probability"
   ]
  }
 ],
 "metadata": {
  "kernelspec": {
   "display_name": "Python 3",
   "language": "python",
   "name": "python3"
  },
  "language_info": {
   "codemirror_mode": {
    "name": "ipython",
    "version": 3
   },
   "file_extension": ".py",
   "mimetype": "text/x-python",
   "name": "python",
   "nbconvert_exporter": "python",
   "pygments_lexer": "ipython3",
   "version": "3.11.9"
  }
 },
 "nbformat": 4,
 "nbformat_minor": 2
}
